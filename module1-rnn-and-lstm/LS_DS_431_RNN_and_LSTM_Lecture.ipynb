{
  "nbformat": 4,
  "nbformat_minor": 0,
  "metadata": {
    "accelerator": "GPU",
    "colab": {
      "name": "LS_DS_431_RNN_and_LSTM_Lecture.ipynb",
      "provenance": [],
      "collapsed_sections": [],
      "include_colab_link": true
    },
    "kernelspec": {
      "display_name": "U4-S3-DL (Python3)",
      "language": "python",
      "name": "u4-s2-dl"
    },
    "language_info": {
      "codemirror_mode": {
        "name": "ipython",
        "version": 3
      },
      "file_extension": ".py",
      "mimetype": "text/x-python",
      "name": "python",
      "nbconvert_exporter": "python",
      "pygments_lexer": "ipython3",
      "version": "3.7.0"
    }
  },
  "cells": [
    {
      "cell_type": "markdown",
      "metadata": {
        "id": "view-in-github",
        "colab_type": "text"
      },
      "source": [
        "<a href=\"https://colab.research.google.com/github/andronikmk/DS-Unit-4-Sprint-3-Deep-Learning/blob/master/module1-rnn-and-lstm/LS_DS_431_RNN_and_LSTM_Lecture.ipynb\" target=\"_parent\"><img src=\"https://colab.research.google.com/assets/colab-badge.svg\" alt=\"Open In Colab\"/></a>"
      ]
    },
    {
      "cell_type": "markdown",
      "metadata": {
        "colab_type": "text",
        "id": "Ldr0HZ193GKb"
      },
      "source": [
        "Lambda School Data Science\n",
        "\n",
        "*Unit 4, Sprint 3, Module 1*\n",
        "\n",
        "---\n"
      ]
    },
    {
      "cell_type": "markdown",
      "metadata": {
        "id": "tzZ1YNjVvaas",
        "colab_type": "text"
      },
      "source": [
        "# Recurrent Neural Networks (RNNs) and Long Short Term Memory (LSTM) (Prepare)\n",
        "\n",
        "<img src=\"https://media.giphy.com/media/l2JJu8U8SoHhQEnoQ/giphy.gif\" width=480 height=356>\n",
        "<br></br>\n",
        "<br></br>"
      ]
    },
    {
      "cell_type": "markdown",
      "metadata": {
        "id": "pREGTTiTvaau",
        "colab_type": "text"
      },
      "source": [
        "## Learning Objectives\n",
        "- <a href=\"#p1\">Part 1: </a>Describe Neural Networks used for modeling sequences\n",
        "- <a href=\"#p2\">Part 2: </a>Apply a LSTM to a text generation problem using Keras"
      ]
    },
    {
      "cell_type": "markdown",
      "metadata": {
        "colab_type": "text",
        "id": "_IizNKWLomoA"
      },
      "source": [
        "## Overview\n",
        "\n",
        "> \"Yesterday's just a memory - tomorrow is never what it's supposed to be.\" -- Bob Dylan\n",
        "\n",
        "Wish you could save [Time In A Bottle](https://www.youtube.com/watch?v=AnWWj6xOleY)? With statistics you can do the next best thing - understand how data varies over time (or any sequential order), and use the order/time dimension predictively.\n",
        "\n",
        "A sequence is just any enumerated collection - order counts, and repetition is allowed. Python lists are a good elemental example - `[1, 2, 2, -1]` is a valid list, and is different from `[1, 2, -1, 2]`. The data structures we tend to use (e.g. NumPy arrays) are often built on this fundamental structure.\n",
        "\n",
        "A time series is data where you have not just the order but some actual continuous marker for where they lie \"in time\" - this could be a date, a timestamp, [Unix time](https://en.wikipedia.org/wiki/Unix_time), or something else. All time series are also sequences, and for some techniques you may just consider their order and not \"how far apart\" the entries are (if you have particularly consistent data collected at regular intervals it may not matter)."
      ]
    },
    {
      "cell_type": "markdown",
      "metadata": {
        "colab_type": "text",
        "id": "44QZgrPUe3-Y"
      },
      "source": [
        "# Neural Networks for Sequences (Learn)"
      ]
    },
    {
      "cell_type": "markdown",
      "metadata": {
        "colab_type": "text",
        "id": "8C8ZyOayvaa0"
      },
      "source": [
        "## Overview\n",
        "\n",
        "There's plenty more to \"traditional\" time series, but the latest and greatest technique for sequence data is recurrent neural networks. A recurrence relation in math is an equation that uses recursion to define a sequence - a famous example is the Fibonacci numbers:\n",
        "\n",
        "$F_n = F_{n-1} + F_{n-2}$\n",
        "\n",
        "For formal math you also need a base case $F_0=1, F_1=1$, and then the rest builds from there. But for neural networks what we're really talking about are loops:\n",
        "\n",
        "![Recurrent neural network](https://upload.wikimedia.org/wikipedia/commons/b/b5/Recurrent_neural_network_unfold.svg)\n",
        "\n",
        "The hidden layers have edges (output) going back to their own input - this loop means that for any time `t` the training is at least partly based on the output from time `t-1`. The entire network is being represented on the left, and you can unfold the network explicitly to see how it behaves at any given `t`.\n",
        "\n",
        "Different units can have this \"loop\", but a particularly successful one is the long short-term memory unit (LSTM):\n",
        "\n",
        "![Long short-term memory unit](https://upload.wikimedia.org/wikipedia/commons/thumb/6/63/Long_Short-Term_Memory.svg/1024px-Long_Short-Term_Memory.svg.png)\n",
        "\n",
        "There's a lot going on here - in a nutshell, the calculus still works out and backpropagation can still be implemented. The advantage (ane namesake) of LSTM is that it can generally put more weight on recent (short-term) events while not completely losing older (long-term) information.\n",
        "\n",
        "After enough iterations, a typical neural network will start calculating prior gradients that are so small they effectively become zero - this is the [vanishing gradient problem](https://en.wikipedia.org/wiki/Vanishing_gradient_problem), and is what RNN with LSTM addresses. Pay special attention to the $c_t$ parameters and how they pass through the unit to get an intuition for how this problem is solved.\n",
        "\n",
        "So why are these cool? One particularly compelling application is actually not time series but language modeling - language is inherently ordered data (letters/words go one after another, and the order *matters*). [The Unreasonable Effectiveness of Recurrent Neural Networks](https://karpathy.github.io/2015/05/21/rnn-effectiveness/) is a famous and worth reading blog post on this topic.\n",
        "\n",
        "For our purposes, let's use TensorFlow and Keras to train RNNs with natural language. Resources:\n",
        "\n",
        "- https://github.com/keras-team/keras/blob/master/examples/imdb_lstm.py\n",
        "- https://keras.io/layers/recurrent/#lstm\n",
        "- http://adventuresinmachinelearning.com/keras-lstm-tutorial/\n",
        "\n",
        "Note that `tensorflow.contrib` [also has an implementation of RNN/LSTM](https://www.tensorflow.org/tutorials/sequences/recurrent)."
      ]
    },
    {
      "cell_type": "markdown",
      "metadata": {
        "colab_type": "text",
        "id": "eWrQllf8WEd-"
      },
      "source": [
        "## Follow Along\n",
        "\n",
        "Sequences come in many shapes and forms from stock prices to text. We'll focus on text, because modeling text as a sequence is a strength of Neural Networks. Let's start with a simple classification task using a TensorFlow tutorial. "
      ]
    },
    {
      "cell_type": "markdown",
      "metadata": {
        "colab_type": "text",
        "id": "TqgaAFHQvaa3"
      },
      "source": [
        "### RNN/LSTM Sentiment Classification with Keras"
      ]
    },
    {
      "cell_type": "markdown",
      "metadata": {
        "id": "wW5ft6Yavaa5",
        "colab_type": "text"
      },
      "source": [
        "Make sure you are familiar with this classic examples!"
      ]
    },
    {
      "cell_type": "code",
      "metadata": {
        "colab_type": "code",
        "id": "Ti23G0gRe3kr",
        "outputId": "bba9ae40-a286-49ed-d87b-b2946fb60ddf",
        "colab": {
          "base_uri": "https://localhost:8080/",
          "height": 975
        }
      },
      "source": [
        "'''\n",
        "#Trains an LSTM model on the IMDB sentiment classification task.\n",
        "The dataset is actually too small for LSTM to be of any advantage\n",
        "compared to simpler, much faster methods such as TF-IDF + LogReg.\n",
        "**Notes**\n",
        "- RNNs are tricky. Choice of batch size is important,\n",
        "choice of loss and optimizer is critical, etc.\n",
        "Some configurations won't converge.\n",
        "- LSTM loss decrease patterns during training can be quite different\n",
        "from what you see with CNNs/MLPs/etc.\n",
        "'''\n",
        "from __future__ import print_function\n",
        "\n",
        "from tensorflow.keras.preprocessing import sequence\n",
        "from tensorflow.keras.models import Sequential\n",
        "from tensorflow.keras.layers import Dense, Embedding\n",
        "from tensorflow.keras.layers import LSTM\n",
        "from tensorflow.keras.datasets import imdb\n",
        "\n",
        "max_features = 20000 # only going to look at the 20000 most popular works.\n",
        "# cut texts after this number of words (among top max_features most common words)\n",
        "maxlen = 80\n",
        "batch_size = 32\n",
        "\n",
        "print('Loading data...')\n",
        "(x_train, y_train), (x_test, y_test) = imdb.load_data(num_words=max_features)\n",
        "print(len(x_train), 'train sequences')\n",
        "print(len(x_test), 'test sequences')"
      ],
      "execution_count": 0,
      "outputs": [
        {
          "output_type": "stream",
          "text": [
            "Loading data...\n",
            "Downloading data from https://storage.googleapis.com/tensorflow/tf-keras-datasets/imdb.npz\n",
            "17465344/17464789 [==============================] - 3s 0us/step\n",
            "25000 train sequences\n",
            "25000 test sequences\n"
          ],
          "name": "stdout"
        }
      ]
    },
    {
      "cell_type": "code",
      "metadata": {
        "id": "r0ME06WGvabD",
        "colab_type": "code",
        "outputId": "9ef83bf4-6731-4022-822b-f791d6edaf3a",
        "colab": {}
      },
      "source": [
        "x_train[0][:10] # these numbers represent words"
      ],
      "execution_count": 0,
      "outputs": [
        {
          "output_type": "execute_result",
          "data": {
            "text/plain": [
              "[1, 14, 22, 16, 43, 530, 973, 1622, 1385, 65]"
            ]
          },
          "metadata": {
            "tags": []
          },
          "execution_count": 3
        }
      ]
    },
    {
      "cell_type": "code",
      "metadata": {
        "id": "FbayOdqGvabJ",
        "colab_type": "code",
        "outputId": "69e3cf6f-5dde-475e-f211-787cffe04de8",
        "colab": {}
      },
      "source": [
        "print('Pad Sequences (samples x time)')\n",
        "\n",
        "# takes sequence makes makes sure its not to long or too short.\n",
        "x_train = sequence.pad_sequences(x_train, maxlen=maxlen)\n",
        "x_test = sequence.pad_sequences(x_test, maxlen=maxlen)\n",
        "\n",
        "print('x_train shape: ', x_train.shape)\n",
        "print('x_test shape: ', x_test.shape)"
      ],
      "execution_count": 0,
      "outputs": [
        {
          "output_type": "stream",
          "text": [
            "Pad Sequences (samples x time)\n",
            "x_train shape:  (25000, 80)\n",
            "x_test shape:  (25000, 80)\n"
          ],
          "name": "stdout"
        }
      ]
    },
    {
      "cell_type": "code",
      "metadata": {
        "id": "C2f5QMsGvabO",
        "colab_type": "code",
        "outputId": "fc7018a1-e431-4e89-cebb-00917cc12478",
        "colab": {}
      },
      "source": [
        "x_train[0]"
      ],
      "execution_count": 0,
      "outputs": [
        {
          "output_type": "execute_result",
          "data": {
            "text/plain": [
              "array([   15,   256,     4,     2,     7,  3766,     5,   723,    36,\n",
              "          71,    43,   530,   476,    26,   400,   317,    46,     7,\n",
              "           4, 12118,  1029,    13,   104,    88,     4,   381,    15,\n",
              "         297,    98,    32,  2071,    56,    26,   141,     6,   194,\n",
              "        7486,    18,     4,   226,    22,    21,   134,   476,    26,\n",
              "         480,     5,   144,    30,  5535,    18,    51,    36,    28,\n",
              "         224,    92,    25,   104,     4,   226,    65,    16,    38,\n",
              "        1334,    88,    12,    16,   283,     5,    16,  4472,   113,\n",
              "         103,    32,    15,    16,  5345,    19,   178,    32],\n",
              "      dtype=int32)"
            ]
          },
          "metadata": {
            "tags": []
          },
          "execution_count": 6
        }
      ]
    },
    {
      "cell_type": "code",
      "metadata": {
        "id": "sPHXr3NjvabW",
        "colab_type": "code",
        "outputId": "05ea1671-5494-4834-ec17-291909082b69",
        "colab": {}
      },
      "source": [
        "y_train[0]"
      ],
      "execution_count": 0,
      "outputs": [
        {
          "output_type": "execute_result",
          "data": {
            "text/plain": [
              "1"
            ]
          },
          "metadata": {
            "tags": []
          },
          "execution_count": 13
        }
      ]
    },
    {
      "cell_type": "code",
      "metadata": {
        "id": "X9mhQe1Avabb",
        "colab_type": "code",
        "outputId": "e5743044-6a37-4fe4-aa47-488da338de69",
        "colab": {}
      },
      "source": [
        "model = Sequential()\n",
        "\n",
        "# This layer reduces the dimensions of the problem\n",
        "model.add(Embedding(max_features, 128))\n",
        "\n",
        "# This layer LSTM\n",
        "model.add(LSTM(128, dropout=0.2, recurrent_dropout=0.2))\n",
        "\n",
        "# Output layer\n",
        "model.add(Dense(1, activation='sigmoid'))\n",
        "\n",
        "# Compile\n",
        "model.compile(loss='binary_crossentropy',\n",
        "              optimizer='adam', \n",
        "              metrics=['accuracy'])\n",
        "# Summary\n",
        "model.summary()"
      ],
      "execution_count": 0,
      "outputs": [
        {
          "output_type": "stream",
          "text": [
            "Model: \"sequential\"\n",
            "_________________________________________________________________\n",
            "Layer (type)                 Output Shape              Param #   \n",
            "=================================================================\n",
            "embedding (Embedding)        (None, None, 128)         2560000   \n",
            "_________________________________________________________________\n",
            "lstm (LSTM)                  (None, 128)               131584    \n",
            "_________________________________________________________________\n",
            "dense (Dense)                (None, 1)                 129       \n",
            "=================================================================\n",
            "Total params: 2,691,713\n",
            "Trainable params: 2,691,713\n",
            "Non-trainable params: 0\n",
            "_________________________________________________________________\n"
          ],
          "name": "stdout"
        }
      ]
    },
    {
      "cell_type": "code",
      "metadata": {
        "id": "hj6hrShPvabg",
        "colab_type": "code",
        "outputId": "3c1c8553-c1a7-4894-c99c-d722b7d67bff",
        "colab": {}
      },
      "source": [
        "unicorns = model.fit(x_train, y_train,\n",
        "          batch_size=1024, \n",
        "          epochs=2, \n",
        "          validation_data=(x_test,y_test))"
      ],
      "execution_count": 0,
      "outputs": [
        {
          "output_type": "stream",
          "text": [
            "Train on 25000 samples, validate on 25000 samples\n",
            "Epoch 1/2\n",
            "25000/25000 [==============================] - 75s 3ms/sample - loss: 0.6261 - accuracy: 0.6772 - val_loss: 0.4940 - val_accuracy: 0.7995\n",
            "Epoch 2/2\n",
            "25000/25000 [==============================] - 82s 3ms/sample - loss: 0.3926 - accuracy: 0.8388 - val_loss: 0.3645 - val_accuracy: 0.8384\n"
          ],
          "name": "stdout"
        }
      ]
    },
    {
      "cell_type": "code",
      "metadata": {
        "id": "T17q7WEhvabm",
        "colab_type": "code",
        "outputId": "70315c4a-6127-41fb-f656-3f2bb6af770e",
        "colab": {}
      },
      "source": [
        "import matplotlib.pyplot as plt\n",
        "\n",
        "# Plot training & validation loss values\n",
        "plt.plot(unicorns.history['loss'])\n",
        "plt.plot(unicorns.history['val_loss'])\n",
        "plt.title('Model loss')\n",
        "plt.ylabel('Loss')\n",
        "plt.xlabel('Epoch')\n",
        "plt.legend(['Train', 'Test'], loc='upper left')\n",
        "plt.show();"
      ],
      "execution_count": 0,
      "outputs": [
        {
          "output_type": "display_data",
          "data": {
            "image/png": "[encoded data removed]",
            "text/plain": [
              "<Figure size 432x288 with 1 Axes>"
            ]
          },
          "metadata": {
            "tags": [],
            "needs_background": "light"
          }
        }
      ]
    },
    {
      "cell_type": "markdown",
      "metadata": {
        "id": "Sa31fvMEvabr",
        "colab_type": "text"
      },
      "source": [
        "## Challenge\n",
        "\n",
        "You will be expected to use an Keras LSTM for a classicification task on the *Sprint Challenge*. "
      ]
    },
    {
      "cell_type": "markdown",
      "metadata": {
        "colab_type": "text",
        "id": "7pETWPIe362y"
      },
      "source": [
        "# LSTM Text generation with Keras (Learn)"
      ]
    },
    {
      "cell_type": "markdown",
      "metadata": {
        "colab_type": "text",
        "id": "G4ZVZSIuvabt"
      },
      "source": [
        "## Overview\n",
        "\n",
        "What else can we do with LSTMs? Since we're analyzing the *sequence*, we can do more than classify - we can *generate* text. I'ved pulled some news stories using [newspaper](https://github.com/codelucas/newspaper/).\n",
        "\n",
        "This example is drawn from the Keras [documentation](https://keras.io/examples/lstm_text_generation/)."
      ]
    },
    {
      "cell_type": "markdown",
      "metadata": {
        "id": "pqTevQPlT3wa",
        "colab_type": "text"
      },
      "source": [
        "# Method 1\n",
        "- Done by following lecture"
      ]
    },
    {
      "cell_type": "code",
      "metadata": {
        "id": "68rPrvtRvabv",
        "colab_type": "code",
        "outputId": "181430b9-35ac-49e3-8105-4a43398c4a67",
        "colab": {
          "base_uri": "https://localhost:8080/",
          "height": 64
        }
      },
      "source": [
        "from tensorflow.keras.callbacks import LambdaCallback\n",
        "from tensorflow.keras.models import Sequential\n",
        "from tensorflow.keras.layers import Dense, LSTM\n",
        "from tensorflow.keras.optimizers import RMSprop\n",
        "\n",
        "import numpy as np\n",
        "import random\n",
        "import sys\n",
        "import os"
      ],
      "execution_count": 0,
      "outputs": [
        {
          "output_type": "display_data",
          "data": {
            "text/html": [
              "<p style=\"color: red;\">\n",
              "The default version of TensorFlow in Colab will soon switch to TensorFlow 2.x.<br>\n",
              "We recommend you <a href=\"https://www.tensorflow.org/guide/migrate\" target=\"_blank\">upgrade</a> now \n",
              "or ensure your notebook will continue to use TensorFlow 1.x via the <code>%tensorflow_version 1.x</code> magic:\n",
              "<a href=\"https://colab.research.google.com/notebooks/tensorflow_version.ipynb\" target=\"_blank\">more info</a>.</p>\n"
            ],
            "text/plain": [
              "<IPython.core.display.HTML object>"
            ]
          },
          "metadata": {
            "tags": []
          }
        }
      ]
    },
    {
      "cell_type": "code",
      "metadata": {
        "id": "llQKK0vRxhqw",
        "colab_type": "code",
        "outputId": "7ae0bb34-dab0-4bf2-e1ca-733fb3c6e9e4",
        "colab": {
          "base_uri": "https://localhost:8080/",
          "height": 34
        }
      },
      "source": [
        "# import files\n",
        "from zipfile import ZipFile\n",
        "\n",
        "file_name = \"/content/articles.zip\"\n",
        "\n",
        "with ZipFile(file_name, 'r') as zip:\n",
        "  zip.extractall()\n",
        "  print('Done')"
      ],
      "execution_count": 0,
      "outputs": [
        {
          "output_type": "stream",
          "text": [
            "Done\n"
          ],
          "name": "stdout"
        }
      ]
    },
    {
      "cell_type": "code",
      "metadata": {
        "id": "Pcfvo9f_vabz",
        "colab_type": "code",
        "colab": {}
      },
      "source": [
        "data_files = os.listdir('./articles')"
      ],
      "execution_count": 0,
      "outputs": []
    },
    {
      "cell_type": "code",
      "metadata": {
        "id": "jmOqvBjavab4",
        "colab_type": "code",
        "colab": {}
      },
      "source": [
        "# Read in Data\n",
        "\n",
        "data = []\n",
        "\n",
        "for file in data_files:\n",
        "    if file[-3:] == 'txt':\n",
        "        with open(f'./articles/{file}', 'r', encoding='utf-8') as f:\n",
        "            data.append(f.read())"
      ],
      "execution_count": 0,
      "outputs": []
    },
    {
      "cell_type": "code",
      "metadata": {
        "id": "YDyyaglfvab9",
        "colab_type": "code",
        "outputId": "ac3e325e-2704-4a8c-c544-b298a286209b",
        "colab": {
          "base_uri": "https://localhost:8080/",
          "height": 34
        }
      },
      "source": [
        "len(data)"
      ],
      "execution_count": 0,
      "outputs": [
        {
          "output_type": "execute_result",
          "data": {
            "text/plain": [
              "136"
            ]
          },
          "metadata": {
            "tags": []
          },
          "execution_count": 32
        }
      ]
    },
    {
      "cell_type": "code",
      "metadata": {
        "id": "d80DPK6YvacD",
        "colab_type": "code",
        "outputId": "61acaddf-7826-41e9-df4f-560f73f2f86a",
        "colab": {
          "base_uri": "https://localhost:8080/",
          "height": 54
        }
      },
      "source": [
        "data[-1]"
      ],
      "execution_count": 0,
      "outputs": [
        {
          "output_type": "execute_result",
          "data": {
            "text/plain": [
              "'At the center of the bloody rampage unfolding in the “Church of Fake News” is a man dressed in a dark pinstripe suit. President Trump’s head is superimposed on his body.\\n\\nThe graphic images are from a fake video that was shown during a pro-Trump conference last week at the president’s hotel and golf resort near Miami, according to the New York Times, which first reported on the video’s existence Sunday night. The clip has since drawn intense backlash from journalists and public figures who have decried it as “vile and horrific” and an “incitement of violence.” Many of the news organizations and people featured in the video have been publicly targeted by Trump, who is frequently criticized for his inflammatory remarks and anti-media rhetoric.\\n\\nAD\\n\\nAD\\n\\n“This video isn’t funny,” tweeted former Texas congressman and Democratic presidential candidate Beto O’Rourke. “It will get people killed.”\\n\\nAt a conference of Trump supporters, they played a video of our president murdering journalists in a church. Last year, a Trump supporter sent bombs to CNN—and a shooter entered a church yesterday. This video isn’t funny. It will get people killed. https://t.co/XWtq1z38Kc — Beto O\\'Rourke (@BetoORourke) October 14, 2019\\n\\nOn Monday, White House press secretary Stephanie Grisham tweeted that Trump had not yet seen the clip, “but based upon everything he has heard, he strongly condemns this video.”\\n\\nRe: the video played over the weekend: The @POTUS @realDonaldTrump has not yet seen the video, he will see it shortly, but based upon everything he has heard, he strongly condemns this video. — Stephanie Grisham (@PressSec) October 14, 2019\\n\\nThe video, adapted from the scene of a church massacre in the 2014 film “Kingsman: The Secret Service,” appeared to be shared to YouTube in 2018 on a channel that posts similar pro-Trump content and has been linked to a meme-maker associated with a website called MemeWorld. The site’s creator, a user known by his Internet handle, Carpe Donktum, scored an Oval Office meeting in July with Trump, who reportedly welcomed him as a “genius.”\\n\\nAD\\n\\nCarpe Donktum confirmed in a Twitter message Sunday to The Washington Post that “The creator of the video is, and will remain a contributor to my site MemeWorld.” Carpe Donktum declined to identify the video’s creator citing concerns that the person may face online or in-person harassment.\\n\\nAD\\n\\nAlex Phillips, organizer of the American Priority Festival and Conference, told the Times the video was played at one point during the three-day event that began Thursday as part of a “meme exhibit.” The violent parody was included in a meme compilation that also featured Trump’s 2020 reelection campaign logo, according to the Times.\\n\\n“It has come to our attention that an unauthorized video was shown in a side room at #AMPFest19,” a statement posted to the conference’s website said. “This video was not approved, seen, or sanctioned by the #AMPFest19 organizers.”\\n\\nAD\\n\\nThe statement went on to note that the conference “always has and always will condemn political violence.”\\n\\nPhillips told the Times the “matter is under review.”\\n\\nIn a statement to The Post early Monday, the Trump campaign distanced itself from the video.\\n\\nAD\\n\\n“That video was not produced by the campaign, and we do not condone violence,” campaign spokesman Tim Murtaugh said.\\n\\nPeople close to Trump, such as former White House press secretary Sarah Sanders and Donald Trump Jr., were also scheduled to speak at the conference and told the Times they were not aware of the edited footage.\\n\\nThe video’s massacre scene opens with the Trump figure walking down the center aisle of a packed church. More than a dozen of the parishioners’ faces are covered by the logos of major media organizations, ranging from PBS to The Washington Post. Rising out of the pews when Trump passes them, some of the churchgoers appear to be yelling at the president, whose face contorts into a scowl.\\n\\nAD\\n\\nAs the shouting intensifies, Trump abruptly stops walking and turns to face the angry mob. He pulls out a black gun from his jacket’s inside pocket and shoots a person edited to represent late actor Peter Fonda, who was a vocal critic of the president, in the head from point-blank range.\\n\\nAD\\n\\nThen, chaos ensues.\\n\\nTrump takes down Bloomberg, Vox and “Fake News” in quick succession before shooting Politico. At one point, he grabs someone who represents the Black Lives Matter movement in a chokehold and shoots that person in the head.\\n\\nAfter shooting MSNBC host Rachel Maddow, Vice News, Rep. Adam B. Schiff (D-Calif.) and Slate, Trump tries to shoot late senator John McCain (R-Ariz.), but he is out of bullets. Instead, he uses his gun to deliver a vicious blow to the back of McCain’s neck.\\n\\nAD\\n\\nThe attack continues with Trump going after some of his most prominent detractors. He stabs actress and comedian Rosie O’Donnell and repeatedly punches Rep. Maxine Waters (D-Calif.). He goes on to shoot MSNBC’s Mika Brzezinski and Sen. Mitt Romney (R-Utah), and later assaults Hillary Clinton with a gun.\\n\\nAD\\n\\nThe video comes to a dramatic end when Trump jams a sharp wooden stake through the head of a person whose face is a CNN logo. A now-grinning Trump appears to survey the carnage as DJ Khaled’s song, “All I Do Is Win,” plays in the background. A pair of pixelated black sunglasses are lowered onto Trump’s face.\\n\\nBy late Sunday, “Kingsman” was trending on Twitter with many expressing outrage at the video and calling on Trump to condemn it.\\n\\nAD\\n\\n“Sadly, this is not the first time that supporters of the President have promoted violence against the media in a video they apparently find entertaining — but it is by far and away the worst,” CNN said in a statement shared on Twitter.\\n\\nThe images in the recent video are “vile and horrific,” CNN said, adding, “The President and his family, the White House, and the Trump campaign need to denounce it immediately in the strongest possible terms. Anything less equates to a tacit endorsement of violence and should not be tolerated by anyone.”\\n\\nAD\\n\\nWhite House Correspondents’ Association President Jonathan Karl of ABC News also denounced the video, noting that Trump has been warned that “his rhetoric could incite violence.”\\n\\nAD\\n\\nWHCA Statement on video depicting President Trump murdering journalists. pic.twitter.com/52lHFaQjU2 — WHCA (@whca) October 14, 2019\\n\\nKarl’s statement was supported early Monday by Cindy McCain, who tweeted that the images in the video of the president killing the media and her late husband “violate every norm our society expects from its leaders.”\\n\\nTrump has made it a habit to publicly lambaste the media, individual journalists and his critics, leading to heightened concerns about safety. In 2017, the president was widely criticized for tweeting a similarly edited video that showed him body slamming a person with a CNN logo for a face during a pro wrestling match. Earlier this year, Cesar Sayoc, a devoted Trump supporter, was sentenced to 20 years in prison for mailing 13 pipe bombs to high-profile Democrats, several of whom were featured in the recent video, and CNN.\\n\\nAD\\n\\nOn Sunday, journalists and political commentators suggested the church video is further evidence that Trump’s words have influenced his supporters.\\n\\nAD\\n\\n“This is an incitement to violence that didn’t just come from the dark corners of the Internet — it was shown at a pro-Trump conference at one of his resorts,” tweeted Politico reporter Andrew Desiderio. “I’m speechless.”\\n\\nCNN commentator Ana Navarro-Cárdenas wrote, “Trump has legitimized hate.”\\n\\nEnablers choose to deny it, but this is the kind of crap Trump peddles & inspires. His constant attacks on the free press, the chants against journalists at his rallies, his retweeting of similar memes...Trump has legitimized hate. #Deplorable https://t.co/vqk0w9Kd9n — Ana Navarro-Cárdenas (@ananavarro) October 14, 2019\\n\\nA year ago this month a man mailed bombs to journalists, Democratic leaders, and critics of Donald Trump. He was responding to Trump’s violent rhetoric. Now we’ve got videos of mass slaughters.\\n\\n\\n\\nThere’s literally no telling what kind of dangers they could unleash. — Jared Yates Sexton (@JYSexton) October 14, 2019\\n\\nCall someone an \"enemy\" over and over again, and you have some responsibility for what happens to them.\\n\\n\\n\\nTrump is responsible for a climate that is so hateful, so hostile toward journalists that it spawns videos like this one. https://t.co/mn1W8W69M1 — Brian Stelter (@brianstelter) October 14, 2019\\n\\nActress Kathy Griffin, who drew widespread backlash in 2017 after sharing a photo of herself holding a prop of Trump’s bloody severed head, echoed concerns about the clip’s impact. Griffin, shown in the video getting beheaded by the ax-wielding CNN person, tweeted that it “isn’t a joke” to Trump supporters, adding, “And it will not be taken as such.\"\\n\\nBut some pushed back against criticisms of the video, pointing out that the film’s original scene, which depicted a church full of “conservative Christians” being killed, did not draw the same level of outcry. According to an NPR review of the movie, the fictional congregation was “clearly modeled on the Westboro Baptist Church,” a Kansas-based organization known for its anti-gay views.\\n\\nAD\\n\\nStill, others wondered if the video represents, as one person put it, “the country hitting rock bottom.”\\n\\n“We have enough mass shootings, we have enough journalists killed in the line of duty around the world — we don’t need to glorify a massacre of people who challenge Trump,” Times columnist Nicholas Kristof tweeted. “This demonization of opponents and fetishization of violence is unconscionable.”'"
            ]
          },
          "metadata": {
            "tags": []
          },
          "execution_count": 33
        }
      ]
    },
    {
      "cell_type": "code",
      "metadata": {
        "id": "iwC_YPe1vacK",
        "colab_type": "code",
        "colab": {}
      },
      "source": [
        "# Encode Data as Chars\n",
        "\n",
        "# Gather all text \n",
        "# Why? 1. See all possible characters 2. For training / splitting later\n",
        "text = \" \".join(data)\n",
        "\n",
        "# Unique Characters\n",
        "chars = list(set(text))\n",
        "\n",
        "# Lookup Tables\n",
        "char_int = {c:i for i, c in enumerate(chars)} \n",
        "int_char = {i:c for i, c in enumerate(chars)} "
      ],
      "execution_count": 0,
      "outputs": []
    },
    {
      "cell_type": "code",
      "metadata": {
        "id": "PG1JQJ2zvacP",
        "colab_type": "code",
        "outputId": "2b8b1ec4-b6b8-49e4-88b5-41a123cc1af7",
        "colab": {
          "base_uri": "https://localhost:8080/",
          "height": 34
        }
      },
      "source": [
        "len(chars)"
      ],
      "execution_count": 0,
      "outputs": [
        {
          "output_type": "execute_result",
          "data": {
            "text/plain": [
              "121"
            ]
          },
          "metadata": {
            "tags": []
          },
          "execution_count": 35
        }
      ]
    },
    {
      "cell_type": "code",
      "metadata": {
        "id": "rF3iZTzbvacT",
        "colab_type": "code",
        "outputId": "a726c193-5fec-4eea-aeef-7ad68cd97ed2",
        "colab": {
          "base_uri": "https://localhost:8080/",
          "height": 34
        }
      },
      "source": [
        "# Create the sequence data\n",
        "\n",
        "maxlen = 40\n",
        "step = 5\n",
        "\n",
        "encoded = [char_int[c] for c in text]\n",
        "\n",
        "sequences = [] # Each element is 40 chars long\n",
        "next_char = [] # One element for each sequence\n",
        "\n",
        "for i in range(0, len(encoded) - maxlen, step):\n",
        "    \n",
        "    sequences.append(encoded[i : i + maxlen])\n",
        "    next_char.append(encoded[i + maxlen])\n",
        "    \n",
        "print('sequences: ', len(sequences))"
      ],
      "execution_count": 0,
      "outputs": [
        {
          "output_type": "stream",
          "text": [
            "sequences:  178374\n"
          ],
          "name": "stdout"
        }
      ]
    },
    {
      "cell_type": "code",
      "metadata": {
        "id": "SWuUfQt6vacY",
        "colab_type": "code",
        "outputId": "98d74d57-b95c-48f9-fab7-942faf8816fa",
        "colab": {
          "base_uri": "https://localhost:8080/",
          "height": 710
        }
      },
      "source": [
        "sequences[0]"
      ],
      "execution_count": 0,
      "outputs": [
        {
          "output_type": "execute_result",
          "data": {
            "text/plain": [
              "[5,\n",
              " 40,\n",
              " 22,\n",
              " 96,\n",
              " 61,\n",
              " 22,\n",
              " 55,\n",
              " 6,\n",
              " 61,\n",
              " 17,\n",
              " 6,\n",
              " 40,\n",
              " 43,\n",
              " 17,\n",
              " 6,\n",
              " 49,\n",
              " 92,\n",
              " 90,\n",
              " 105,\n",
              " 6,\n",
              " 80,\n",
              " 61,\n",
              " 92,\n",
              " 12,\n",
              " 90,\n",
              " 43,\n",
              " 61,\n",
              " 40,\n",
              " 6,\n",
              " 55,\n",
              " 92,\n",
              " 77,\n",
              " 33,\n",
              " 61,\n",
              " 17,\n",
              " 40,\n",
              " 22,\n",
              " 17,\n",
              " 6,\n",
              " 40]"
            ]
          },
          "metadata": {
            "tags": []
          },
          "execution_count": 37
        }
      ]
    },
    {
      "cell_type": "code",
      "metadata": {
        "id": "juTJgh-avacc",
        "colab_type": "code",
        "colab": {}
      },
      "source": [
        "# Create x & y\n",
        "\n",
        "x = np.zeros((len(sequences), maxlen, len(chars)), dtype=np.bool)\n",
        "y = np.zeros((len(sequences),len(chars)), dtype=np.bool)\n",
        "\n",
        "for i, sequence in enumerate(sequences):\n",
        "    for t, char in enumerate(sequence):\n",
        "        x[i,t,char] = 1\n",
        "        \n",
        "    y[i, next_char[i]] = 1"
      ],
      "execution_count": 0,
      "outputs": []
    },
    {
      "cell_type": "code",
      "metadata": {
        "id": "gCXAsBa_vacg",
        "colab_type": "code",
        "outputId": "32e019ac-b68a-4812-f7f5-c66fcbd9cec3",
        "colab": {
          "base_uri": "https://localhost:8080/",
          "height": 34
        }
      },
      "source": [
        "x.shape"
      ],
      "execution_count": 0,
      "outputs": [
        {
          "output_type": "execute_result",
          "data": {
            "text/plain": [
              "(178374, 40, 121)"
            ]
          },
          "metadata": {
            "tags": []
          },
          "execution_count": 39
        }
      ]
    },
    {
      "cell_type": "code",
      "metadata": {
        "id": "tGT0qat9vack",
        "colab_type": "code",
        "outputId": "e41ba183-4922-4d9c-84f0-5919967b8416",
        "colab": {
          "base_uri": "https://localhost:8080/",
          "height": 34
        }
      },
      "source": [
        "y.shape"
      ],
      "execution_count": 0,
      "outputs": [
        {
          "output_type": "execute_result",
          "data": {
            "text/plain": [
              "(178374, 121)"
            ]
          },
          "metadata": {
            "tags": []
          },
          "execution_count": 40
        }
      ]
    },
    {
      "cell_type": "code",
      "metadata": {
        "id": "Lmfubjjxvacq",
        "colab_type": "code",
        "outputId": "8c019533-fd10-4216-9f96-049da3ced286",
        "colab": {
          "base_uri": "https://localhost:8080/",
          "height": 225
        }
      },
      "source": [
        "# build the model: a single LSTM\n",
        "\n",
        "model = Sequential()\n",
        "model.add(LSTM(128, input_shape=(maxlen, len(chars)), dropout=.2))\n",
        "model.add(Dense(len(chars), activation='softmax'))\n",
        "\n",
        "model.compile(loss='categorical_crossentropy', optimizer='adam')\n",
        "\n",
        "model.summary()"
      ],
      "execution_count": 0,
      "outputs": [
        {
          "output_type": "stream",
          "text": [
            "Model: \"sequential_1\"\n",
            "_________________________________________________________________\n",
            "Layer (type)                 Output Shape              Param #   \n",
            "=================================================================\n",
            "lstm_1 (LSTM)                (None, 128)               128000    \n",
            "_________________________________________________________________\n",
            "dense_1 (Dense)              (None, 121)               15609     \n",
            "=================================================================\n",
            "Total params: 143,609\n",
            "Trainable params: 143,609\n",
            "Non-trainable params: 0\n",
            "_________________________________________________________________\n"
          ],
          "name": "stdout"
        }
      ]
    },
    {
      "cell_type": "code",
      "metadata": {
        "id": "Xv5eToRQvacu",
        "colab_type": "code",
        "colab": {}
      },
      "source": [
        "def sample(preds):\n",
        "    # helper function to sample an index from a probability array\n",
        "    # Takes predictions and translates them into a character.\n",
        "    # Into a position of a chracter.\n",
        "    preds = np.asarray(preds).astype('float64')\n",
        "    preds = np.log(preds) / 1\n",
        "    exp_preds = np.exp(preds)\n",
        "    preds = exp_preds / np.sum(exp_preds)\n",
        "    probas = np.random.multinomial(1, preds, 1)\n",
        "    return np.argmax(probas)"
      ],
      "execution_count": 0,
      "outputs": []
    },
    {
      "cell_type": "code",
      "metadata": {
        "id": "Uem1umOmvacy",
        "colab_type": "code",
        "colab": {}
      },
      "source": [
        "def on_epoch_end(epoch, _):\n",
        "    # Function invoked at end of each epoch. Prints generated text.\n",
        "    \n",
        "    print()\n",
        "    print('----- Generating text after Epoch: %d' % epoch)\n",
        "    \n",
        "    start_index = random.randint(0, len(text) - maxlen - 1)\n",
        "    \n",
        "    generated = ''\n",
        "    \n",
        "    sentence = text[start_index: start_index + maxlen]\n",
        "    generated += sentence\n",
        "    \n",
        "    print('----- Generating with seed: \"' + sentence + '\"')\n",
        "    sys.stdout.write(generated)\n",
        "    \n",
        "    for i in range(400):\n",
        "        x_pred = np.zeros((1, maxlen, len(chars)))\n",
        "        for t, char in enumerate(sentence):\n",
        "            x_pred[0, t, char_int[char]] = 1\n",
        "            \n",
        "        preds = model.predict(x_pred, verbose=0)[0]\n",
        "        next_index = sample(preds)\n",
        "        next_char = int_char[next_index]\n",
        "        \n",
        "        sentence = sentence[1:] + next_char\n",
        "        \n",
        "        sys.stdout.write(next_char)\n",
        "        sys.stdout.flush()\n",
        "    print()\n",
        "\n",
        "\n",
        "print_callback = LambdaCallback(on_epoch_end=on_epoch_end)"
      ],
      "execution_count": 0,
      "outputs": []
    },
    {
      "cell_type": "code",
      "metadata": {
        "id": "fpmfUvjJvac2",
        "colab_type": "code",
        "outputId": "dbf7c369-e35b-4808-b28f-c1c8d688a9e1",
        "colab": {
          "base_uri": "https://localhost:8080/",
          "height": 1000
        }
      },
      "source": [
        "# fit the model\n",
        "\n",
        "model.fit(x, y,\n",
        "          batch_size=1024,\n",
        "          epochs=10,\n",
        "          callbacks=[print_callback])"
      ],
      "execution_count": 0,
      "outputs": [
        {
          "output_type": "stream",
          "text": [
            "Train on 178374 samples\n",
            "Epoch 1/10\n",
            "178176/178374 [============================>.] - ETA: 0s - loss: 3.2845\n",
            "----- Generating text after Epoch: 0\n",
            "----- Generating with seed: \"Best Dressed Fan award goes to the guy i\"\n",
            "Best Dressed Fan award goes to the guy ihc hateduf a    e aVrnni .O hitores iueugttnAosse\n",
            "o e.iimEtm t\n",
            "idoy  urhahiy eye .psfit so odigeot p e eCrroe  arr Rgridosn”sttleormiabsye, n e ud d mlbtnouaTbsh  webed e tm iT bbyfI brvsi e. s uh n tr.stdoion ur“ys  ur tH wngnhv  /eht dvyfrt c,0SsnenY aReet  ppeenl  mnlitfowoeeguylh.yhAn,eeoo “hb  afa sofnyatemcxtngatm iefrteur e neag am oi”1ptt h  tlnnn eap  nor oofgssral5ma  d’Cathttt  öado -ig\n",
            "178374/178374 [==============================] - 21s 120us/sample - loss: 3.2843\n",
            "Epoch 2/10\n",
            "178176/178374 [============================>.] - ETA: 0s - loss: 3.0087\n",
            "----- Generating text after Epoch: 1\n",
            "----- Generating with seed: \"e politics of the right and inspiring in\"\n",
            "e politics of the right and inspiring ina in e penoyo.a rsookbero oohe pv hpn evs  rer his afe inot icsq rel eur oirove c sil itsh. arcAy saitamao6eslgsamte. ralomhdsyA ahp laris eepe oAbe uuay\n",
            "  womiomtnm lane ryo od afeaaex ws iur uinsie .cafoul nes asrrAgmoJ  lhlllchPee welleine oet Pot)eraoTne Hi ei.fea rr 5ecyasa tno s .iRs“Ife f\n",
            " enlSf nooad ,oed aiasi2se,rDhiE leroticlomlorai5 ls t Ano pusf sprluwS oc togecot,iCs n asa AhnSiatalc\n",
            "178374/178374 [==============================] - 20s 113us/sample - loss: 3.0086\n",
            "Epoch 3/10\n",
            "178176/178374 [============================>.] - ETA: 0s - loss: 2.7879\n",
            "----- Generating text after Epoch: 2\n",
            "----- Generating with seed: \"e they suspect of having committed immig\"\n",
            "e they suspect of having committed immig ih, by ve tho’ntt wath, orSsar pr“to Condeb6aned ha,pSfuRpo chin inbetn” bwenr s’r o ar int woe af-thd chise af be fiwtfhe,ilP“yat jal okrGegd ome:iss rasgtunlb\n",
            "\n",
            "“mor henmh, \n",
            "\n",
            "”epornum2 imge oa pansihe” Anrept\n",
            "ir s\n",
            "asat lesd rPoas bysarRorlmnosat nr serdfris il th cucl cavyy tu ta, re,esadf Bt Careghe Ffreonth, ceras ra naded b’cile edvaltess anr, FJeh, Q3ityes oaw toa 7eis sid en thicgas rbstiga\n",
            "178374/178374 [==============================] - 20s 110us/sample - loss: 2.7880\n",
            "Epoch 4/10\n",
            "178176/178374 [============================>.] - ETA: 0s - loss: 2.6645\n",
            "----- Generating text after Epoch: 3\n",
            "----- Generating with seed: \"front leg is opened up a bit more this s\"\n",
            "front leg is opened up a bit more this sout rrpeliald dh thuSwaas, — bu alal  n Il se0 wao nopbay) 2ho,ed ov unscada ssofacf bivu e, Ont Ar, Touedir themey osgards ’or we ritet so]l sanstbon pad sa-bviFciedtyoma senmlsy us herphicici bullins axouo car, waag ore oob the ahetr tho soucessios uire ferts ainsert ouyon \n",
            "\n",
            "he fozmeceeDaut palatborath kenr ars, di’Hon  on tiwnide —hDhe. oen arpalhin ont wimeveia furn. onac\n",
            "\n",
            "ms an bsy Sute ., ID\n",
            "178374/178374 [==============================] - 19s 109us/sample - loss: 2.6644\n",
            "Epoch 5/10\n",
            "178176/178374 [============================>.] - ETA: 0s - loss: 2.5895\n",
            "----- Generating text after Epoch: 4\n",
            "----- Generating with seed: \"ch soil because of the escape of some Is\"\n",
            "ch soil because of the escape of some Isbader. Cherita ingaud .en ate seloun tis wares ufnon ere ifere $itry CoTr bebson ?os  oreccoomgo, wra te on eaget hon wos onesinh Ase vels kiv erunnghes.\n",
            "\n",
            "Iod zuliitorn yay:.\n",
            "\n",
            "Phe ‘erI rise t gofchafkinitl ufpelamprsmd.bee as abther co— th ves ooce foalt, we’s loceince birg theonvian’y 1oac Saumongs anipae wat’ sie the tow, bias corion sape riyes sady.\n",
            "\n",
            "dirta Aro doupee on ehe coddine6tho pid alee\n",
            "178374/178374 [==============================] - 19s 109us/sample - loss: 2.5895\n",
            "Epoch 6/10\n",
            "178176/178374 [============================>.] - ETA: 0s - loss: 2.5388\n",
            "----- Generating text after Epoch: 5\n",
            "----- Generating with seed: \"t yet seen the clip, “but based upon eve\"\n",
            "t yet seen the clip, “but based upon eved’ge bauhstoncintepin wid they Theloncome  at eedionk see that the phadbetit 8terp Inpl Plabdiag “lins bheyo pou. the Fur ma thisteca eruted, on maun, vaming yificiake, kad “thscoL teust in to ta moumxMvenelthis mvesy trke g cor thert1y ro  dlar ancin encat in bpsat’ daw ddats nthe astiof weren mace porliane Tstip  amemp sos bend dritint I: fo. Irir lot or setmlcarise toonut6 Tong jung burg pfeel \n",
            "178374/178374 [==============================] - 20s 110us/sample - loss: 2.5388\n",
            "Epoch 7/10\n",
            "178176/178374 [============================>.] - ETA: 0s - loss: 2.4983\n",
            "----- Generating text after Epoch: 6\n",
            "----- Generating with seed: \"d things get,” he insisted, “you can sti\"\n",
            "d things get,” he insisted, “you can stial hes. S9amof Kincopnenty Tupladise hTre s 1hab““N UtT He Hempsebed in Wouns an yo 1He sut the on weam ouproup ol. come teend poone tous” but 1y srinqfay thut thorche prerrire, viuudengive cos 2 meact aom’sh Mertidt ,nd dsirde tay wacmogher sistrerte sh spunongs. “mim couGtac salyos acastiliug Wes Ment ser.\n",
            "\n",
            "Diecteve ersialcighen Onldtsovesaly, ans, U 1hisshe oouts roly.\n",
            "et sfleth the Arpersasish\n",
            "178374/178374 [==============================] - 19s 109us/sample - loss: 2.4982\n",
            "Epoch 8/10\n",
            "178176/178374 [============================>.] - ETA: 0s - loss: 2.4637\n",
            "----- Generating text after Epoch: 7\n",
            "----- Generating with seed: \"es in Congress's impeachment inquiry as \"\n",
            "es in Congress's impeachment inquiry as 3ics oul ad or Saunges uan. The 4yEerunchi, Tourby and irs challe cise seg and yet hos licct to atiig zadefthe ming’s, bitha deot rugsimetrsathe Russ alleen shes rond thea hes l mat$ mamin, pipraticed os ceippads stomeat on seanstas whs herct,ed and os mevery pessimitiin, heit the Mltiding tho saly.\n",
            "\n",
            "Fmen, one.\n",
            "\n",
            "Ocls vo onkjubliss.\n",
            "\n",
            "In to melled ledibel lryibl frehtcellt.\n",
            "\n",
            "A. Tritcus fove 2r’n ans\n",
            "178374/178374 [==============================] - 19s 108us/sample - loss: 2.4637\n",
            "Epoch 9/10\n",
            "178176/178374 [============================>.] - ETA: 0s - loss: 2.4354\n",
            "----- Generating text after Epoch: 8\n",
            "----- Generating with seed: \"ion and commercial work before making hi\"\n",
            "ion and commercial work before making hit or ounid un woop rep vack sond an’r Kompucotinat..\n",
            "\n",
            "Ther beseve fordvert ser whitcapre it 1ep Ter1 Dlow thif cipprisowver ithecthon hor of bed (hh 20“3hy Cxiskis surtent mo so. Potrp‘ad wingeld jonste the tomewe rhwo the Wckemas, an Erithat be Scobecc pevaipe tore ion.\n",
            "\n",
            "U.\n",
            "\n",
            "Seok onf the thiden, h cali trome couk-boture than’s weaskern hom sitr, ig on cork and khwar, asdedinctoY\n",
            "PPa3h socinnt cem\n",
            "178374/178374 [==============================] - 19s 109us/sample - loss: 2.4355\n",
            "Epoch 10/10\n",
            "178176/178374 [============================>.] - ETA: 0s - loss: 2.4080\n",
            "----- Generating text after Epoch: 9\n",
            "----- Generating with seed: \"We noticed you’re blocking ads!\n",
            "\n",
            "Keep su\"\n",
            "We noticed you’re blocking ads!\n",
            "\n",
            "Keep suuptol,, Peepdoy cortingy andd of inm hatyes longring aby fat onebowihg waLhen seiden teat. Imp sther tioning frive soutinn gok.\n",
            "\n",
            "Fweve hath as, cass. Trkn ivt wect andFor tard picess-yoregn\n",
            "\n",
            "Eca the lowlrenon mente, Ficuved al tems peonlieg,’s eoute ront the bycthal oul ia maty Plaso.\n",
            "\n",
            "The whay of thechigh courn Bof rnailesporats his le diwe houcs and went the boursting of os pefvint is’w Wher bou\n",
            "178374/178374 [==============================] - 19s 108us/sample - loss: 2.4083\n"
          ],
          "name": "stdout"
        },
        {
          "output_type": "execute_result",
          "data": {
            "text/plain": [
              "<tensorflow.python.keras.callbacks.History at 0x7f34b00955c0>"
            ]
          },
          "metadata": {
            "tags": []
          },
          "execution_count": 44
        }
      ]
    },
    {
      "cell_type": "markdown",
      "metadata": {
        "id": "8hyqHH5DTxSR",
        "colab_type": "text"
      },
      "source": [
        "# Method 2"
      ]
    },
    {
      "cell_type": "code",
      "metadata": {
        "id": "RIhvHLpeUBkR",
        "colab_type": "code",
        "colab": {
          "base_uri": "https://localhost:8080/",
          "height": 81
        },
        "outputId": "468d351d-ea6e-40bf-c9ce-ba98981cbc1b"
      },
      "source": [
        "import numpy as np\n",
        "import random\n",
        "import sys\n",
        "import tensorflow as tf\n",
        "\n",
        "from tensorflow.keras.callbacks import LambdaCallback\n",
        "from tensorflow.keras.models import Sequential\n",
        "from tensorflow.keras.layers import Dense, LSTM\n",
        "from tensorflow.keras.optimizers import RMSprop"
      ],
      "execution_count": 1,
      "outputs": [
        {
          "output_type": "display_data",
          "data": {
            "text/html": [
              "<p style=\"color: red;\">\n",
              "The default version of TensorFlow in Colab will soon switch to TensorFlow 2.x.<br>\n",
              "We recommend you <a href=\"https://www.tensorflow.org/guide/migrate\" target=\"_blank\">upgrade</a> now \n",
              "or ensure your notebook will continue to use TensorFlow 1.x via the <code>%tensorflow_version 1.x</code> magic:\n",
              "<a href=\"https://colab.research.google.com/notebooks/tensorflow_version.ipynb\" target=\"_blank\">more info</a>.</p>\n"
            ],
            "text/plain": [
              "<IPython.core.display.HTML object>"
            ]
          },
          "metadata": {
            "tags": []
          }
        }
      ]
    },
    {
      "cell_type": "markdown",
      "metadata": {
        "id": "2KR-OUIAvac8",
        "colab_type": "text"
      },
      "source": [
        "## Challenge\n",
        "\n",
        "You will be expected to use a Keras LSTM to generate text on today's assignment. "
      ]
    },
    {
      "cell_type": "markdown",
      "metadata": {
        "id": "HN6Mcx8Hvac9",
        "colab_type": "text"
      },
      "source": [
        "# Review\n",
        "\n",
        "- <a href=\"#p1\">Part 1: </a>Describe Neural Networks used for modeling sequences\n",
        "    * Sequence Problems:\n",
        "        - Time Series (like Stock Prices, Weather, etc.)\n",
        "        - Text Classification\n",
        "        - Text Generation\n",
        "        - And many more! :D\n",
        "    * LSTMs are generally preferred over RNNs for most problems\n",
        "    * LSTMs are typically a single hidden layer of LSTM type; although, other architectures are possible.\n",
        "    * Keras has LSTMs/RNN layer types implemented nicely\n",
        "- <a href=\"#p2\">Part 2: </a>Apply a LSTM to a text generation problem using Keras\n",
        "    * Shape of input data is very important\n",
        "    * Can take a while to train\n",
        "    * You can use it to write movie scripts. :P "
      ]
    }
  ]
}